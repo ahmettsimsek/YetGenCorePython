{
 "cells": [
  {
   "cell_type": "markdown",
   "metadata": {},
   "source": [
    "# Problem 1\n",
    "`ogrenciler` adında bir sözlük oluşturunuz. Kullanıcıdan döngü yardımıyla 3 öğrenci için veri girmesini isteyerek öğrencilerin sırasıyla okul numarası, isim, soy isim, telefon numarası ve doğum tarihi bilgilerini alınız. Aldığınız öğrenci bilgilerini yine aynı döngü yardımıyla `ogrenciler` adındaki sözlükte saklayınız. Daha sonra öğrenci bilgilerinin bulunduğu sözlük yapısını ekrana bastırınız.\n",
    "\n"
   ]
  },
  {
   "cell_type": "code",
   "execution_count": 2,
   "metadata": {},
   "outputs": [
    {
     "name": "stdout",
     "output_type": "stream",
     "text": [
      "{0: {'no': '1', 'isim': '1', 'soyisim': '1', 'telefon': '1', 'dogum': '1'}, 1: {'no': '2', 'isim': '2', 'soyisim': '2', 'telefon': '2', 'dogum': '2'}, 2: {'no': '3', 'isim': '3', 'soyisim': '3', 'telefon': '3', 'dogum': '3'}}\n"
     ]
    }
   ],
   "source": [
    "ogrenciler = {}\n",
    "for i in range(3):\n",
    "    okulno=input(\"okul numaranizi giriniz:\")\n",
    "    isim=input(\"isminizi giriniz:\")\n",
    "    soyisim=input(\"soyisminizi giriniz:\")\n",
    "    telefonno=input(\"telefon numaranizi giriniz:\")\n",
    "    dogum=input(\"dogum tarihinizi giriniz:\")\n",
    "  \n",
    "  \n",
    "\n",
    "    ogrenciler[i] = {\n",
    "    \"no\":okulno,\n",
    "    \"isim\":isim,\n",
    "    \"soyisim\":soyisim,\n",
    "    \"telefon\":telefonno,\n",
    "    \"dogum\":dogum\n",
    "\n",
    "    }  \n",
    "print(ogrenciler)"
   ]
  },
  {
   "cell_type": "markdown",
   "metadata": {},
   "source": [
    "# Problem 2\n",
    "\n",
    "### a - Biraz ısınarak başlayalım!\n",
    "\n",
    "```\n",
    "numbers = [5,10,10,15,15,15,20,20,20,20]\n",
    "```\n",
    "\n",
    "Yukarıda `numbers` adında 10 elemanlı bir liste verilmiştir. Bu listenin her elemanını kontrol eden ve tekrar eden elemanları bir kez olacak şekilde başka bir listeye kopyalayan bir program yazınız. Son olarak oluşturduğunuz listeyi ekrana bastırınız.\n",
    "\n",
    "\n",
    "\n",
    "\n",
    "```\n",
    ">Output\n",
    "[5, 10, 15, 20]\n",
    "```\n"
   ]
  },
  {
   "cell_type": "code",
   "execution_count": 5,
   "metadata": {},
   "outputs": [
    {
     "name": "stdout",
     "output_type": "stream",
     "text": [
      "[5, 10, 15, 20]\n"
     ]
    }
   ],
   "source": [
    "numbers = [5,10,10,15,15,15,20,20,20,20]\n",
    "\n",
    "yeninum = []\n",
    "\n",
    "for x in numbers:\n",
    "\n",
    "    if x in yeninum:\n",
    "        continue\n",
    "\n",
    "    else:\n",
    "        yeninum.append(x)\n",
    "\n",
    "print(yeninum)"
   ]
  },
  {
   "cell_type": "markdown",
   "metadata": {},
   "source": [
    "### 🌶️ b) Hadi işi biraz daha zorlaştıralım! \n",
    "\n",
    "\n",
    "Şimdiyse senden `numbers` isimli listedeki tekrar eden elemanları `repeatNumbers` adındaki listeye; tekrar etmeyen elemanları `uniqueNumbers`adındaki listeye kopyalayan yazmanı ve listeleri ekrana bastırmanı bekliyoruz\n",
    "\n",
    "```\n",
    ">Output\n",
    "Tekrar Eden Elemanlar: [10, 10, 15, 15, 15, 20, 20, 20, 20]\n",
    "Tekrar Etmeyen Elemanlar: [5]\n",
    "```"
   ]
  },
  {
   "cell_type": "code",
   "execution_count": 7,
   "metadata": {},
   "outputs": [
    {
     "name": "stdout",
     "output_type": "stream",
     "text": [
      "tekrar eden elemanlar: [10, 10, 15, 15, 15, 20, 20, 20, 20]\n",
      "tekrar etmeyen elemanlar: [5]\n"
     ]
    }
   ],
   "source": [
    "numbers = [5,10,10,15,15,15,20,20,20,20]\n",
    "\n",
    "tekrar = []\n",
    "\n",
    "tekraretmeyen = []\n",
    "\n",
    "for num in numbers:\n",
    "\n",
    "    if numbers.count(num) == 1:\n",
    "        tekraretmeyen.append(num)\n",
    "\n",
    "    else:\n",
    "        tekrar.append(num)\n",
    "\n",
    "print(\"tekrar eden elemanlar:\",tekrar)\n",
    "print(\"tekrar etmeyen elemanlar:\",tekraretmeyen)"
   ]
  },
  {
   "cell_type": "markdown",
   "metadata": {},
   "source": [
    "# Problem 3\n",
    "sn1 = {1,2,3,4,5}\n",
    "\n",
    "sn2 = {4,5,6,7,8}\n",
    "\n",
    " Verilen 2 adet küme için kesişimlerini, farklarını ve birleşimlerini bulunuz. "
   ]
  },
  {
   "cell_type": "code",
   "execution_count": 6,
   "metadata": {},
   "outputs": [
    {
     "name": "stdout",
     "output_type": "stream",
     "text": [
      "{4, 5}\n",
      "{1, 2, 3}\n",
      "{1, 2, 3, 4, 5, 6, 7, 8}\n"
     ]
    }
   ],
   "source": [
    "sn1 = {1,2,3,4,5}\n",
    "sn2 = {4,5,6,7,8}\n",
    "\n",
    "kesisim = sn1.intersection(sn2)\n",
    "\n",
    "fark = sn1.difference(sn2)\n",
    "\n",
    "toplam = sn1.union(sn2)\n",
    "\n",
    "\n",
    "print(kesisim)\n",
    "print(fark)\n",
    "print(toplam)"
   ]
  },
  {
   "cell_type": "markdown",
   "metadata": {},
   "source": [
    "# Problem 4\n",
    "\n",
    "Buradaki işlemlerimizin tamamı stringler içindir. Aşağıda verilecek olan metodlar için kendinizin örnek yaratması gerekmektedir. \n",
    "\n",
    "Örneğin `upper` için `string` değişkeni oluştururken` k = \"BAC\"` şeklinde oluşturmayınız. Bunun yerine k değişkenini `k = \"bac`\" şeklinde oluşturmanız `upper` metodundaki değişimi görebilmeniz için daha iyi olacaktır.\n",
    "\n",
    "Bütün metodlardaki değişimin gözle görülür şekilde değişimi beklenmektedir.\n",
    "\n",
    "\n",
    "1- capitalize(), lower(), upper(), swapcase(), title(), replace()\n",
    "\n",
    "2- endswith(), startswith(), find(), index(), count()\n",
    "\n",
    "3- split(), strip(), join(), islower(), isalpha(), isdigit()\n",
    "\n",
    "\n",
    "Yukarıdaki `string` metodlarındaki değişimleri görebildiğimiz bir program yazınız.\n"
   ]
  },
  {
   "cell_type": "code",
   "execution_count": 46,
   "metadata": {},
   "outputs": [
    {
     "name": "stdout",
     "output_type": "stream",
     "text": [
      "yetGen İLE öğreniyorum \n",
      "Yetgen i̇le öğreniyorum \n",
      "yetgen i̇le öğreniyorum \n",
      "YETGEN İLE ÖĞRENIYORUM \n",
      "YETgEN i̇le ÖĞRENIYORUM \n",
      "Yetgen İle Öğreniyorum \n",
      "yatGan İLE öğraniyorum \n",
      "False\n",
      "False\n",
      "False\n",
      "4\n",
      "4\n",
      "3\n",
      "['yetGen', 'İLE', 'öğreniyorum', '']\n",
      "yetGen İLE öğreniyorum\n",
      "yetGen%İLE%öğreniyorum\n",
      "False\n",
      "True\n",
      "False\n",
      "False\n",
      "True\n"
     ]
    }
   ],
   "source": [
    "a = \"yetGen İLE öğreniyorum \"\n",
    "b = (\"yetGen\",\"İLE\",\"öğreniyorum\")\n",
    "c = \"yetgen ile öğreniyorum \"\n",
    "d = \"1234\"\n",
    "\n",
    "print(a)\n",
    "print(a.capitalize())\n",
    "print(a.lower())\n",
    "print(a.upper())\n",
    "print(a.swapcase())\n",
    "print(a.title())\n",
    "print(a.replace(\"e\",\"a\"))\n",
    "print(a.endswith(\"m\"))\n",
    "print(a.endswith(\"a\"))\n",
    "print(a.startswith(\"a\"))\n",
    "print(a.find(\"en\"))\n",
    "print(a.index(\"en\",1,14))\n",
    "print(a.count(\"e\"))\n",
    "print(a.split(\" \"))\n",
    "print(a.strip())\n",
    "print(\"%\".join(b))\n",
    "print(a.islower())\n",
    "print(c.islower())\n",
    "print(a.isalpha()) \n",
    "print(a.isdigit())\n",
    "print(d.isdigit())"
   ]
  }
 ],
 "metadata": {
  "kernelspec": {
   "display_name": "Python 3.10.5 64-bit",
   "language": "python",
   "name": "python3"
  },
  "language_info": {
   "codemirror_mode": {
    "name": "ipython",
    "version": 3
   },
   "file_extension": ".py",
   "mimetype": "text/x-python",
   "name": "python",
   "nbconvert_exporter": "python",
   "pygments_lexer": "ipython3",
   "version": "3.11.2"
  },
  "orig_nbformat": 4,
  "vscode": {
   "interpreter": {
    "hash": "5026d2d6e7aaaaba093def813beadff083d8733e4a511af01735cbabd156995d"
   }
  }
 },
 "nbformat": 4,
 "nbformat_minor": 2
}
