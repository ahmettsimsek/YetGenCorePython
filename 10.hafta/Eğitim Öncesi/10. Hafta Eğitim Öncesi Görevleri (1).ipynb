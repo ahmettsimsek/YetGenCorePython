{
 "cells": [
  {
   "attachments": {},
   "cell_type": "markdown",
   "metadata": {},
   "source": [
    "# Problem 1"
   ]
  },
  {
   "cell_type": "code",
   "execution_count": null,
   "metadata": {},
   "outputs": [],
   "source": [
    "import numpy as np\n",
    "\n",
    "# 1 - numpy kütüphanesini import edin\n",
    "import numpy as np\n",
    "\n",
    "# 2 - 0 ile 10 arasında 5 sayıdan oluşan matris üretin\n",
    "matris = np.random.randint(0, 11, size=(5,))\n",
    "\n",
    "# 3 - matris'in boyutunu öğrenin\n",
    "boyut = matris.shape\n",
    "\n",
    "# 4 - matris'i yeniden boyutlandırın\n",
    "yeniden_boyutlandirilmis_matris = matris.reshape((1, 5))\n",
    "\n",
    "# 5 - matris'in boyut sayısını öğrenin\n",
    "boyut_sayisi = matris.ndim\n",
    "\n",
    "print(\"Matris:\")\n",
    "print(matris)\n",
    "\n",
    "print(\"\\nMatris Boyutu:\")\n",
    "print(boyut)\n",
    "\n",
    "print(\"\\nYeniden Boyutlandırılmış Matris:\")\n",
    "print(yeniden_boyutlandirilmis_matris)\n",
    "\n",
    "print(\"\\nMatris Boyut Sayısı:\")\n",
    "print(boyut_sayisi)"
   ]
  },
  {
   "attachments": {},
   "cell_type": "markdown",
   "metadata": {},
   "source": [
    "# Problem 2"
   ]
  },
  {
   "cell_type": "code",
   "execution_count": null,
   "metadata": {},
   "outputs": [],
   "source": [
    "import numpy as np\n",
    "\n",
    "# 1 - 0 ile 10 arasında bulunan tek sayılardan oluşan matris üretin\n",
    "matris = np.arange(1, 11, 2)\n",
    "\n",
    "# 2 - Oluşturduğunuz matrisi parçalayın\n",
    "parcalanmis_matrisler = np.split(matris, 5)\n",
    "\n",
    "# 3 - Parçalanmış matrisleri birleştirin\n",
    "birlesik_matris = np.concatenate(parcalanmis_matrisler)\n",
    "\n",
    "print(\"Matris:\")\n",
    "print(matris)\n",
    "\n",
    "print(\"\\nParçalanmış Matrisler:\")\n",
    "for i, parcalanmis_matris in enumerate(parcalanmis_matrisler):\n",
    "    print(\"Parça {}: {}\".format(i, parcalanmis_matris))\n",
    "\n",
    "print(\"\\nBirleştirilmiş Matris:\")\n",
    "print(birlesik_matris)\n"
   ]
  }
 ],
 "metadata": {
  "kernelspec": {
   "display_name": "Python 3",
   "language": "python",
   "name": "python3"
  },
  "language_info": {
   "codemirror_mode": {
    "name": "ipython",
    "version": 3
   },
   "file_extension": ".py",
   "mimetype": "text/x-python",
   "name": "python",
   "nbconvert_exporter": "python",
   "pygments_lexer": "ipython3",
   "version": "3.11.2"
  },
  "orig_nbformat": 4,
  "vscode": {
   "interpreter": {
    "hash": "5026d2d6e7aaaaba093def813beadff083d8733e4a511af01735cbabd156995d"
   }
  }
 },
 "nbformat": 4,
 "nbformat_minor": 2
}
